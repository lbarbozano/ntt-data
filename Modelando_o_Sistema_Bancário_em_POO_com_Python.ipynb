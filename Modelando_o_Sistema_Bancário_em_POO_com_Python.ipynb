{
  "nbformat": 4,
  "nbformat_minor": 0,
  "metadata": {
    "colab": {
      "provenance": []
    },
    "kernelspec": {
      "name": "python3",
      "display_name": "Python 3"
    },
    "language_info": {
      "name": "python"
    }
  },
  "cells": [
    {
      "cell_type": "code",
      "source": [
        "class Cliente:\n",
        "    def __init__(self, nome, cpf):\n",
        "        self.nome = nome\n",
        "        self.cpf = cpf\n",
        "\n",
        "    def __str__(self):\n",
        "        return f\"Cliente: {self.nome}, CPF: {self.cpf}\"\n",
        "\n",
        "\n",
        "class ContaBancaria:\n",
        "    def __init__(self, cliente, numero_conta, saldo=0):\n",
        "        self.cliente = cliente\n",
        "        self.numero_conta = numero_conta\n",
        "        self.saldo = saldo\n",
        "\n",
        "    def depositar(self, valor):\n",
        "        if valor > 0:\n",
        "            self.saldo += valor\n",
        "            print(f\"Depósito de R${valor} realizado com sucesso na conta {self.numero_conta}.\")\n",
        "        else:\n",
        "            print(\"Valor de depósito deve ser positivo.\")\n",
        "\n",
        "    def sacar(self, valor):\n",
        "        if 0 < valor <= self.saldo:\n",
        "            self.saldo -= valor\n",
        "            print(f\"Saque de R${valor} realizado com sucesso da conta {self.numero_conta}.\")\n",
        "        else:\n",
        "            print(\"Saque inválido. Verifique o saldo e o valor.\")\n",
        "\n",
        "    def consultar_saldo(self):\n",
        "        return self.saldo\n",
        "\n",
        "    def __str__(self):\n",
        "        return f\"Conta: {self.numero_conta}, Saldo: R${self.saldo}, Cliente: {self.cliente.nome}\"\n",
        "\n",
        "\n",
        "class Banco:\n",
        "    def __init__(self):\n",
        "        self.clientes = []\n",
        "        self.contas = []\n",
        "\n",
        "    def adicionar_cliente(self, nome, cpf):\n",
        "        novo_cliente = Cliente(nome, cpf)\n",
        "        self.clientes.append(novo_cliente)"
      ],
      "metadata": {
        "id": "2YhGKdFl3TVx"
      },
      "execution_count": 3,
      "outputs": []
    }
  ]
}